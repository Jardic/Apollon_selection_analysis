{
 "cells": [
  {
   "cell_type": "markdown",
   "id": "404181f8-8848-4fc7-b6a9-809654637530",
   "metadata": {},
   "source": [
    "## Selection readnumber distributions"
   ]
  },
  {
   "cell_type": "code",
   "execution_count": 2,
   "id": "ca92fa80-c457-4d83-9921-79b3ed7168e9",
   "metadata": {},
   "outputs": [],
   "source": [
    "import pandas as pd\n",
    "import matplotlib.pyplot as plt\n",
    "import numpy as np"
   ]
  },
  {
   "cell_type": "code",
   "execution_count": 3,
   "id": "6018c5cc-fa79-479c-8ad1-ea7e6146addd",
   "metadata": {},
   "outputs": [],
   "source": [
    "plt.rcParams['figure.facecolor'] = 'white'\n",
    "plt.rcParams['font.size'] = 12\n",
    "plt.rcParams['font.family'] = 'Arial'\n",
    "\n",
    "sn_color='#71cb69ff'\n",
    "ap_color='#f9bc0cff'\n",
    "au_color='#2e3192ff'"
   ]
  },
  {
   "cell_type": "code",
   "execution_count": 4,
   "id": "d2fbcb24-ce7e-4574-ac8f-bd5c6359d56e",
   "metadata": {},
   "outputs": [],
   "source": [
    "init_dataset = '/home/kurfurst/Documents/datasets/KS_CDP_round0.tsv'\n",
    "select_dataset = '/home/kurfurst/Documents/datasets/MV_NPP_full_FAcounts.tsv'"
   ]
  },
  {
   "cell_type": "code",
   "execution_count": 5,
   "id": "2c3b6a49-18a5-4d96-b6ed-42947fe12769",
   "metadata": {},
   "outputs": [],
   "source": [
    "def prepDataset(f):\n",
    "    df = pd.read_csv(f, sep='\\t', names=['count', 'seq'])\n",
    "    df['ppm'] = (df['count'] / df['count'].sum()) * 1000000\n",
    "    return df"
   ]
  },
  {
   "cell_type": "code",
   "execution_count": 6,
   "id": "daa755b7-afd2-48d9-a273-fc3df0f20af4",
   "metadata": {},
   "outputs": [],
   "source": [
    "df_init = prepDataset(init_dataset)\n",
    "df_select = prepDataset(select_dataset)"
   ]
  },
  {
   "cell_type": "code",
   "execution_count": 7,
   "id": "4721b1f4-f4fc-40b1-825e-7574a1da82fa",
   "metadata": {},
   "outputs": [],
   "source": [
    "# Make readnumber distribution plots\n",
    "vc_init = df_init['ppm'].value_counts(normalize=False)\n",
    "vc_select = df_select['ppm'].value_counts(normalize=False)"
   ]
  },
  {
   "cell_type": "code",
   "execution_count": 9,
   "id": "db899501-d733-4ce2-988d-063005cb420d",
   "metadata": {},
   "outputs": [
    {
     "data": {
      "image/png": "[encoded data removed]",
      "text/plain": [
       "<Figure size 288x180 with 1 Axes>"
      ]
     },
     "metadata": {
      "needs_background": "light"
     },
     "output_type": "display_data"
    }
   ],
   "source": [
    "a = 1\n",
    "color_init = 'grey'\n",
    "color_select = ap_color\n",
    "\n",
    "plt.figure(figsize=(4, 2.5))\n",
    "plt.bar(vc_select.index, vc_select.values, alpha=a, width=vc_select.index.min(), color=color_select, edgecolor=color_select, label='Selected')\n",
    "plt.bar(vc_init.index, vc_init.values, alpha=0.8, width=vc_init.index.min(), color=color_init, label='Unselected')\n",
    "\n",
    "plt.xlabel('ppm')\n",
    "plt.ylabel('Number of sequences')\n",
    "plt.yscale('log')\n",
    "plt.xscale('log')\n",
    "plt.legend()\n",
    "plt.savefig('Readnumber_distribution_selection.png', dpi=300)"
   ]
  }
 ],
 "metadata": {
  "kernelspec": {
   "display_name": "Python 3 (ipykernel)",
   "language": "python",
   "name": "python3"
  },
  "language_info": {
   "codemirror_mode": {
    "name": "ipython",
    "version": 3
   },
   "file_extension": ".py",
   "mimetype": "text/x-python",
   "name": "python",
   "nbconvert_exporter": "python",
   "pygments_lexer": "ipython3",
   "version": "3.9.12"
  }
 },
 "nbformat": 4,
 "nbformat_minor": 5
}
