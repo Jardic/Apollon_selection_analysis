{
 "cells": [
  {
   "cell_type": "markdown",
   "id": "a59276f4-6067-41be-9e4e-c9e63b403356",
   "metadata": {},
   "source": [
    "## Apollon stem analysis\n",
    "In this notebook analyse the putative stems of Apollon structure. For each stem, I plot the readnumber of sequences with various number of basepairs and I calculate the fold over expected % of sequences with full basepairing."
   ]
  },
  {
   "cell_type": "code",
   "execution_count": 1,
   "id": "c80d4d15-196e-4fa9-aae7-4265fbaddf7a",
   "metadata": {},
   "outputs": [],
   "source": [
    "import pandas as pd\n",
    "import matplotlib.pyplot as plt\n",
    "import seaborn as sns\n",
    "import random\n",
    "from ivstools import constants"
   ]
  },
  {
   "cell_type": "code",
   "execution_count": 2,
   "id": "05ff764f-697f-4267-93cd-6f2bfe2995e7",
   "metadata": {},
   "outputs": [],
   "source": [
    "yellow = '#f9bc0cff'\n",
    "blue = '#293250'\n",
    "plt.rcParams['font.size'] = 12\n",
    "plt.rcParams['font.family'] = 'Arial'"
   ]
  },
  {
   "cell_type": "code",
   "execution_count": 3,
   "id": "8b3df7eb-5ab8-4f81-9bf1-88b25d9e8e1a",
   "metadata": {},
   "outputs": [],
   "source": [
    "def simMutagenesis(s, rate=0.21):\n",
    "    \n",
    "    bases = ['A', 'T', 'G', 'C']\n",
    "    \n",
    "    # Define probabilities of parent base and the mut bases\n",
    "    p_parent = 1 - rate\n",
    "    p_mut = round((rate / 3), 2)\n",
    "    \n",
    "    # Resulting seq\n",
    "    seq = ''\n",
    "    \n",
    "    for b in s:\n",
    "        weights = [p_parent if b == bases[i] else p_mut for i in range(len(bases))]\n",
    "        seq += random.choices(bases, weights=weights, k=1)[0]\n",
    "    return seq"
   ]
  },
  {
   "cell_type": "code",
   "execution_count": 4,
   "id": "89cce017-0260-4de3-8c77-5252cbabc869",
   "metadata": {},
   "outputs": [],
   "source": [
    "def number_of_basepairs(sq1, sq2, orientation='++', basepairs=['AT', 'TA', 'GC', 'CG', 'TG', 'GT']):\n",
    "    if orientation == '++':\n",
    "        pass\n",
    "    elif orientation == '-+':\n",
    "        sq1 = sq1[::-1]\n",
    "    elif orientation == '+-':\n",
    "        sq2 = sq2[::-1]\n",
    "    elif orientation == '--':\n",
    "        sq1 = sq1[::-1]\n",
    "        sq2 = sq1[::-1]\n",
    "        \n",
    "    bps = 0\n",
    "    for b1, b2 in zip(sq1, sq2):\n",
    "        if b1 + b2 in basepairs:\n",
    "            bps += 1\n",
    "    return bps"
   ]
  },
  {
   "cell_type": "markdown",
   "id": "8a109372-935d-4930-89a2-efd796e0cb22",
   "metadata": {},
   "source": [
    "---\n",
    "### Observed dataset"
   ]
  },
  {
   "cell_type": "code",
   "execution_count": 5,
   "id": "2e740def-19ef-45ac-89fb-fbd1c807cf14",
   "metadata": {},
   "outputs": [],
   "source": [
    "df_obs = pd.read_csv('/home/kurfurst/Documents/datasets/MV_apollon_reselection.tsv', sep='\\t', names=['count', 'seq'])"
   ]
  },
  {
   "cell_type": "code",
   "execution_count": 6,
   "id": "3f9feae5-6f68-477d-ad0e-77815a6e09ff",
   "metadata": {},
   "outputs": [],
   "source": [
    "# Slicing out stem regions from the observed data\n",
    "df_obs['stem1_p1'] = [s[0:4] for s in df_obs['seq']]\n",
    "df_obs['stem1_p2'] = [s[37:41] for s in df_obs['seq']]\n",
    "df_obs['stem2_p1'] = [s[8:12] for s in df_obs['seq']]\n",
    "df_obs['stem2_p2'] = [s[29:33] for s in df_obs['seq']]\n",
    "df_obs['stem3_p1'] = [s[43:51] for s in df_obs['seq']]\n",
    "df_obs['stem3_p2'] = [s[56:64] for s in df_obs['seq']]\n",
    "df_obs['bulge_p1'] = [s[4:8] for s in df_obs['seq']]\n",
    "df_obs['bulge_p2'] = [s[33:37] for s in df_obs['seq']]"
   ]
  },
  {
   "cell_type": "code",
   "execution_count": 7,
   "id": "1762ff57-7fc1-420f-a37e-7da282c80afc",
   "metadata": {},
   "outputs": [],
   "source": [
    "# Computing number of basepairs formed in each stem in each sequence\n",
    "df_obs['stem1_bps'] = [number_of_basepairs(p1, p2, orientation='+-') for p1, p2 in zip(df_obs['stem1_p1'], df_obs['stem1_p2'])]\n",
    "df_obs['stem2_bps'] = [number_of_basepairs(p1, p2, orientation='+-') for p1, p2 in zip(df_obs['stem2_p1'], df_obs['stem2_p2'])]\n",
    "df_obs['stem3_bps'] = [number_of_basepairs(p1, p2, orientation='+-') for p1, p2 in zip(df_obs['stem3_p1'], df_obs['stem3_p2'])]\n",
    "df_obs['bulge_bps'] = [number_of_basepairs(p1, p2, orientation='+-') for p1, p2 in zip(df_obs['bulge_p1'], df_obs['bulge_p2'])]"
   ]
  },
  {
   "cell_type": "markdown",
   "id": "fe6f8d54-df98-40f9-9434-233585b3cdc0",
   "metadata": {},
   "source": [
    "---\n",
    "### Simulating the initial dataset"
   ]
  },
  {
   "cell_type": "code",
   "execution_count": null,
   "id": "ca31d411-ef6e-46ab-921c-71f7c8e081a2",
   "metadata": {},
   "outputs": [],
   "source": [
    "# Simulating the initial dataset after 21% mutagenesis of the parent sequence\n",
    "apollon_parent = df.iloc[0]['seq']\n",
    "mutagenesis_sim = pd.Series([simMutagenesis(apollon_parent, rate=0.21) for x in range(0, df['count'].sum())]).value_counts().sort_values(ascending=False)\n",
    "df_sim = pd.DataFrame(mutagenesis_sim).reset_index()\n",
    "df_sim.columns = ['seq', 'count']\n",
    "df_sim"
   ]
  },
  {
   "cell_type": "code",
   "execution_count": null,
   "id": "1c6b1a59-d1fb-4b4e-b9e6-56303471c9b0",
   "metadata": {},
   "outputs": [],
   "source": [
    "# Slicing out stem regions from the simulated data\n",
    "df_sim['stem1_p1'] = [s[0:4] for s in df_sim['seq']]\n",
    "df_sim['stem1_p2'] = [s[37:41] for s in df_sim['seq']]\n",
    "df_sim['stem2_p1'] = [s[8:12] for s in df_sim['seq']]\n",
    "df_sim['stem2_p2'] = [s[29:33] for s in df_sim['seq']]\n",
    "df_sim['stem3_p1'] = [s[43:51] for s in df_sim['seq']]\n",
    "df_sim['stem3_p2'] = [s[56:64] for s in df_sim['seq']]\n",
    "df_sim['bulge_p1'] = [s[4:8] for s in df_sim['seq']]\n",
    "df_sim['bulge_p2'] = [s[33:37] for s in df_sim['seq']]"
   ]
  },
  {
   "cell_type": "code",
   "execution_count": null,
   "id": "3c4fcb98-7625-4646-b5d4-1f47ac13e714",
   "metadata": {},
   "outputs": [],
   "source": [
    "# Computing number of basepairs formed in each stem in each sequence (in the simulated dataset)\n",
    "df_sim['stem1_bps'] = [number_of_basepairs(p1, p2, orientation='+-') for p1, p2 in zip(df_sim['stem1_p1'], df_sim['stem1_p2'])]\n",
    "df_sim['stem2_bps'] = [number_of_basepairs(p1, p2, orientation='+-') for p1, p2 in zip(df_sim['stem2_p1'], df_sim['stem2_p2'])]\n",
    "df_sim['stem3_bps'] = [number_of_basepairs(p1, p2, orientation='+-') for p1, p2 in zip(df_sim['stem3_p1'], df_sim['stem3_p2'])]\n",
    "df_sim['bulge_bps'] = [number_of_basepairs(p1, p2, orientation='+-') for p1, p2 in zip(df_sim['bulge_p1'], df_sim['bulge_p2'])]"
   ]
  },
  {
   "cell_type": "code",
   "execution_count": null,
   "id": "63787608-9615-4a9d-9d63-8fadb3e92127",
   "metadata": {},
   "outputs": [],
   "source": [
    "df_sim.to_csv('simulated_initial_pool.csv')"
   ]
  },
  {
   "cell_type": "markdown",
   "id": "9162a9db-90e9-4b10-a039-fa1f2317d978",
   "metadata": {},
   "source": [
    "#### READ the simulated dataset"
   ]
  },
  {
   "cell_type": "code",
   "execution_count": 8,
   "id": "9cfc89a1-15d7-49b9-bf6f-c1a8bf620e97",
   "metadata": {},
   "outputs": [],
   "source": [
    "df_sim = pd.read_csv('simulated_initial_pool.csv', index_col=0)"
   ]
  },
  {
   "cell_type": "markdown",
   "id": "0f597b34-fd1c-4a22-a406-b3e21f135e79",
   "metadata": {},
   "source": [
    "---"
   ]
  },
  {
   "cell_type": "code",
   "execution_count": null,
   "id": "b2dad5cb-8f29-4c29-a647-e53761ba7401",
   "metadata": {},
   "outputs": [],
   "source": [
    "stem1_obs = df_obs[df_obs['stem1_bps'] == 4]['count'].sum() / df_obs['count'].sum()\n",
    "stem1_sim = df_sim[df_sim['stem1_bps'] == 4]['count'].sum() / df_sim['count'].sum()"
   ]
  },
  {
   "cell_type": "code",
   "execution_count": null,
   "id": "cfa1b1f6-7655-4fae-87c1-7d12eb5ba070",
   "metadata": {},
   "outputs": [],
   "source": [
    "stem2_obs = df_obs[df_obs['stem2_bps'] == 4]['count'].sum() / df_obs['count'].sum()\n",
    "stem2_sim = df_sim[df_sim['stem2_bps'] == 4]['count'].sum() / df_sim['count'].sum()"
   ]
  },
  {
   "cell_type": "code",
   "execution_count": null,
   "id": "58ef3c43-00d8-45b2-bdd1-aa407bfdb1a3",
   "metadata": {},
   "outputs": [],
   "source": [
    "stem3_obs = df_obs[df_obs['stem3_bps'] == 8]['count'].sum() / df_obs['count'].sum()\n",
    "stem3_sim = df_sim[df_sim['stem3_bps'] == 8]['count'].sum() / df_sim['count'].sum()"
   ]
  },
  {
   "cell_type": "code",
   "execution_count": null,
   "id": "94057cf7-53f7-4585-9939-abf8af84a39b",
   "metadata": {},
   "outputs": [],
   "source": [
    "pd.DataFrame([\n",
    "    [stem1_obs, stem1_sim],\n",
    "    [stem2_obs, stem2_sim],\n",
    "    [stem3_obs, stem3_sim]\n",
    "], columns=['obs', 'sim'], index=['stem1', 'stem2', 'stem3']).to_csv('fold_over_expected_values_READS.csv')"
   ]
  },
  {
   "cell_type": "code",
   "execution_count": null,
   "id": "5e4669a2-69ec-40af-8a4f-f22c62ebc0f9",
   "metadata": {},
   "outputs": [],
   "source": [
    "plt.figure(figsize=(3.5, 2.5))\n",
    "plt.bar(['stem 1', 'stem 2', 'stem 3'], [stem1_obs/stem1_sim, stem2_obs/stem2_sim, stem3_obs/stem3_sim], color=yellow)\n",
    "plt.ylabel('Fold over expected')\n",
    "plt.title('Reads')\n",
    "plt.savefig('fold_over_expected_READS.png', dpi=120)"
   ]
  },
  {
   "cell_type": "code",
   "execution_count": null,
   "id": "095911ee-c37b-4279-9440-69d9d5d1e9c8",
   "metadata": {},
   "outputs": [],
   "source": [
    "stem1_obs = len(df_obs[df_obs['stem1_bps'] == 4]) / len(df_obs)\n",
    "stem1_sim = len(df_sim[df_sim['stem1_bps'] == 4]) / len(df_sim)"
   ]
  },
  {
   "cell_type": "code",
   "execution_count": null,
   "id": "5a04a31e-18a7-4c9b-8f8b-9d752e87e2e3",
   "metadata": {},
   "outputs": [],
   "source": [
    "stem2_obs = len(df_obs[df_obs['stem2_bps'] == 4]) / len(df_obs)\n",
    "stem2_sim = len(df_sim[df_sim['stem2_bps'] == 4]) / len(df_sim)"
   ]
  },
  {
   "cell_type": "code",
   "execution_count": null,
   "id": "a0892ae3-7699-4021-92de-e6a94f57b9a7",
   "metadata": {},
   "outputs": [],
   "source": [
    "stem3_obs = len(df_obs[df_obs['stem3_bps'] == 8]) / len(df_obs)\n",
    "stem3_sim = len(df_sim[df_sim['stem3_bps'] == 8]) / len(df_sim)"
   ]
  },
  {
   "cell_type": "code",
   "execution_count": null,
   "id": "2910a8d1-4601-41e6-8cb6-36f7b503324e",
   "metadata": {},
   "outputs": [],
   "source": [
    "pd.DataFrame([\n",
    "    [stem1_obs, stem1_sim],\n",
    "    [stem2_obs, stem2_sim],\n",
    "    [stem3_obs, stem3_sim]\n",
    "], columns=['obs', 'sim'], index=['stem1', 'stem2', 'stem3']).to_csv('fold_over_expected_values_UNIQUE.csv')"
   ]
  },
  {
   "cell_type": "code",
   "execution_count": null,
   "id": "38016cc0-4cc9-4fe2-aecb-ea806c9c15f4",
   "metadata": {},
   "outputs": [],
   "source": [
    "plt.figure(figsize=(3.5, 2.5))\n",
    "plt.bar(['stem 1', 'stem 2', 'stem 3'], [stem1_obs/stem1_sim, stem2_obs/stem2_sim, stem3_obs/stem3_sim], color=yellow)\n",
    "plt.ylabel('Fold over expected')\n",
    "plt.title('Unique sequences')\n",
    "plt.savefig('fold_over_expected_UNIQUE.png', dpi=120)"
   ]
  },
  {
   "cell_type": "code",
   "execution_count": null,
   "id": "ab177bca-9f7c-4524-964b-745440900c2f",
   "metadata": {},
   "outputs": [],
   "source": [
    "df_obs['p'] = [s[48] + s[58] for s in df_obs['seq']]"
   ]
  },
  {
   "cell_type": "markdown",
   "id": "994214e3-b526-4f25-b717-4daf7bfa8c0a",
   "metadata": {},
   "source": [
    "**Reads**"
   ]
  },
  {
   "cell_type": "code",
   "execution_count": null,
   "id": "00301b60-5492-4a03-8ec3-5dd441479bc4",
   "metadata": {},
   "outputs": [],
   "source": [
    "df_obs[df_obs['p'].isin(['AT', 'TA', 'CG', 'GC', 'TG', 'GT'])]['count'].sum()"
   ]
  },
  {
   "cell_type": "code",
   "execution_count": null,
   "id": "7a982369-de01-444d-8bfb-04686fb7d714",
   "metadata": {},
   "outputs": [],
   "source": [
    "df_obs['count'].sum()"
   ]
  },
  {
   "cell_type": "markdown",
   "id": "1bc297e3-9549-4f40-bfe6-2db3b1b2fbb5",
   "metadata": {},
   "source": [
    "**Unique sequences**"
   ]
  },
  {
   "cell_type": "code",
   "execution_count": null,
   "id": "54427a7f-1ba1-4d10-843d-89b424a75a99",
   "metadata": {},
   "outputs": [],
   "source": [
    "len((df_obs[df_obs['p'].isin(['AT', 'TA', 'CG', 'GC', 'TG', 'GT'])]))"
   ]
  },
  {
   "cell_type": "code",
   "execution_count": null,
   "id": "4ed787de-86ef-4ea9-a980-d015e6aeccc5",
   "metadata": {},
   "outputs": [],
   "source": [
    "len(df_obs)"
   ]
  },
  {
   "cell_type": "code",
   "execution_count": null,
   "id": "63548a35-b00f-44bf-a94c-c7327ba67cf3",
   "metadata": {},
   "outputs": [],
   "source": []
  },
  {
   "cell_type": "markdown",
   "id": "70d14748-2cd4-48b8-b945-7b0c8bc6cbe6",
   "metadata": {},
   "source": [
    " ---\n",
    "### WARNING\n",
    "**Here I'm appending tree artificial rows just to adjust the scale the following 4 figures. These must not be taken into account for the figures after that!**"
   ]
  },
  {
   "cell_type": "code",
   "execution_count": null,
   "id": "cf000fd9-48f0-4746-8484-37c5804e4f43",
   "metadata": {},
   "outputs": [],
   "source": [
    "df.columns"
   ]
  },
  {
   "cell_type": "code",
   "execution_count": null,
   "id": "dffb4d2f-3df4-4ed5-a696-fbf9f882cfc4",
   "metadata": {},
   "outputs": [],
   "source": [
    "insert_row1 = {'count':0,\n",
    "          'seq':'ATG',\n",
    "          'stem1_p1':0,\n",
    "          'stem1_p2':0,\n",
    "          'stem2_p1':0,\n",
    "          'stem2_p2':0,\n",
    "          'stem3_p1':0,\n",
    "          'stem3_p2':0,\n",
    "          'bulge_p1':0,\n",
    "          'bulge_p2':0,\n",
    "          'stem1_bps':0,\n",
    "          'stem2_bps':0,\n",
    "          'stem3_bps':0,\n",
    "          'bulge_bps':0\n",
    "          }"
   ]
  },
  {
   "cell_type": "code",
   "execution_count": null,
   "id": "e76c328f-e975-401c-9ba3-3f0d17503cc3",
   "metadata": {},
   "outputs": [],
   "source": [
    "insert_row2 = {'count':0,\n",
    "          'seq':'ATG',\n",
    "          'stem1_p1':0,\n",
    "          'stem1_p2':0,\n",
    "          'stem2_p1':0,\n",
    "          'stem2_p2':0,\n",
    "          'stem3_p1':0,\n",
    "          'stem3_p2':0,\n",
    "          'bulge_p1':0,\n",
    "          'bulge_p2':0,\n",
    "          'stem1_bps':0,\n",
    "          'stem2_bps':0,\n",
    "          'stem3_bps':1,\n",
    "          'bulge_bps':0\n",
    "          }"
   ]
  },
  {
   "cell_type": "code",
   "execution_count": null,
   "id": "3a76df8b-4c10-49bc-b9c9-5140ae12bd40",
   "metadata": {},
   "outputs": [],
   "source": [
    "insert_row3 = {'count':0,\n",
    "          'seq':'ATG',\n",
    "          'stem1_p1':0,\n",
    "          'stem1_p2':0,\n",
    "          'stem2_p1':0,\n",
    "          'stem2_p2':0,\n",
    "          'stem3_p1':0,\n",
    "          'stem3_p2':0,\n",
    "          'bulge_p1':0,\n",
    "          'bulge_p2':0,\n",
    "          'stem1_bps':0,\n",
    "          'stem2_bps':0,\n",
    "          'stem3_bps':1,\n",
    "          'bulge_bps':4\n",
    "          }"
   ]
  },
  {
   "cell_type": "code",
   "execution_count": null,
   "id": "2fc54629-dc80-443c-a2ee-832a4ed2145e",
   "metadata": {},
   "outputs": [],
   "source": [
    "df = pd.concat([df, pd.DataFrame([insert_row1])])\n",
    "df = pd.concat([df, pd.DataFrame([insert_row2])])\n",
    "df = pd.concat([df, pd.DataFrame([insert_row3])])"
   ]
  },
  {
   "cell_type": "code",
   "execution_count": null,
   "id": "6254648f-5b0a-4707-97ce-82f70a4e4dd5",
   "metadata": {},
   "outputs": [],
   "source": [
    "df.tail()"
   ]
  },
  {
   "cell_type": "code",
   "execution_count": null,
   "id": "01519d74-5446-420b-a65d-89942ba32e69",
   "metadata": {},
   "outputs": [],
   "source": [
    "sns.stripplot(data=df, x='stem1_bps', y='count', color=yellow, jitter=0.2)\n",
    "#plt.xticks([0, 1, 2, 3, 4], [0, 1, 2, 3, 4])\n",
    "plt.yscale('log')\n",
    "plt.title('Stem 1')\n",
    "plt.xlabel('Number of basepairs')\n",
    "plt.ylabel('Read Number')\n",
    "plt.savefig('stem1_rn.png', dpi=120)"
   ]
  },
  {
   "cell_type": "code",
   "execution_count": null,
   "id": "b6ad8e4a-6047-4f1f-adee-c68252f16e1b",
   "metadata": {},
   "outputs": [],
   "source": [
    "sns.stripplot(data=df, x='stem2_bps', y='count', color=yellow, jitter=0.2)\n",
    "plt.yscale('log')\n",
    "plt.title('Stem 2')\n",
    "plt.xlabel('Number of basepairs')\n",
    "plt.ylabel('Read Number')\n",
    "plt.savefig('stem2_rn.png', dpi=120)"
   ]
  },
  {
   "cell_type": "code",
   "execution_count": null,
   "id": "cd8eef02-e2cd-499a-bfb5-cedccbeaf4e2",
   "metadata": {},
   "outputs": [],
   "source": [
    "sns.stripplot(data=df, x='stem3_bps', y='count', color=yellow, jitter=0.2)\n",
    "plt.yscale('log')\n",
    "plt.title('Stem 3')\n",
    "plt.xlabel('Number of basepairs')\n",
    "plt.ylabel('Read Number')\n",
    "plt.savefig('stem3_rn.png', dpi=120)"
   ]
  },
  {
   "cell_type": "code",
   "execution_count": null,
   "id": "4cc0d385-30bf-44f2-9fce-1b6e6c4b1890",
   "metadata": {},
   "outputs": [],
   "source": [
    "sns.stripplot(data=df, x='bulge_bps', y='count', color=blue, jitter=0.2)\n",
    "plt.yscale('log')\n",
    "plt.title('Bulge')\n",
    "plt.xlabel('Number of basepairs')\n",
    "plt.ylabel('Read Number')\n",
    "plt.savefig('bulge_rn.png', dpi=120)"
   ]
  },
  {
   "cell_type": "markdown",
   "id": "aef251b4-4d5d-440d-b7e8-549e327daee0",
   "metadata": {},
   "source": [
    "---\n",
    "**Stem 1**"
   ]
  },
  {
   "cell_type": "code",
   "execution_count": null,
   "id": "1a9c517b-5f32-4208-9d36-5f62aec8a035",
   "metadata": {},
   "outputs": [],
   "source": [
    "stem1_p = len(df[df['stem1_bps'] == 4])/len(df) * 100\n",
    "stem1_t = (6/16)**4 * 100"
   ]
  },
  {
   "cell_type": "code",
   "execution_count": null,
   "id": "018bb84f-0bd9-4a40-b038-fa7f12065a4d",
   "metadata": {},
   "outputs": [],
   "source": [
    "print('% of sequences with 4/4 basepairs:', round(stem1_p, 2))\n",
    "print('% theoretical:', round(stem1_t, 2))"
   ]
  },
  {
   "cell_type": "markdown",
   "id": "53a27fba-3062-490b-bfa4-2bc01389a0a4",
   "metadata": {},
   "source": [
    "---\n",
    "**Stem 2**"
   ]
  },
  {
   "cell_type": "code",
   "execution_count": null,
   "id": "2dadcf29-47b4-4c54-a5f8-d322ce13b4e0",
   "metadata": {},
   "outputs": [],
   "source": [
    "stem2_p = len(df[df['stem2_bps'] == 4])/len(df) * 100\n",
    "stem2_t = (6/16)**4 * 100"
   ]
  },
  {
   "cell_type": "code",
   "execution_count": null,
   "id": "0668374b-7e9c-4249-bf68-e458de839ea3",
   "metadata": {},
   "outputs": [],
   "source": [
    "print('% of sequences with 4/4 basepairs:', round(stem2_p, 2))\n",
    "print('% theoretical:', round(stem2_t, 2))"
   ]
  },
  {
   "cell_type": "markdown",
   "id": "20916361-e6b5-47c3-aa5f-7036f8cc449d",
   "metadata": {},
   "source": [
    "---\n",
    "**Stem 3**"
   ]
  },
  {
   "cell_type": "code",
   "execution_count": null,
   "id": "53c64824-f695-4fd3-968e-ba1f4b104369",
   "metadata": {},
   "outputs": [],
   "source": [
    "stem3_p = len(df[df['stem3_bps'] == 8])/len(df) * 100\n",
    "stem3_t = (6/16)**8 * 100"
   ]
  },
  {
   "cell_type": "code",
   "execution_count": null,
   "id": "37644b73-9160-4cf0-809a-4f39b863ff5a",
   "metadata": {},
   "outputs": [],
   "source": [
    "print('% of sequences with 8/8 basepairs:', round(stem3_p, 2))\n",
    "print('% theoretical:', round(stem3_t, 2))"
   ]
  },
  {
   "cell_type": "markdown",
   "id": "68f32abc-a70c-4ba9-bc5e-991a5371169f",
   "metadata": {},
   "source": [
    "---\n",
    "**Bulge**"
   ]
  },
  {
   "cell_type": "code",
   "execution_count": null,
   "id": "e11631f9-e0cf-43b4-81f3-0638d750d44d",
   "metadata": {},
   "outputs": [],
   "source": [
    "bulge_p = len(df[df['bulge_bps'] == 4])/len(df) * 100\n",
    "bulge_t = (6/16)**4 * 100"
   ]
  },
  {
   "cell_type": "code",
   "execution_count": null,
   "id": "c7610700-acf6-4164-b0d2-9c62533b12a7",
   "metadata": {},
   "outputs": [],
   "source": [
    "print('% of sequences with 4/4 basepairs:', bulge_p)\n",
    "print('% theoretical:', round(bulge_t, 2))"
   ]
  },
  {
   "cell_type": "markdown",
   "id": "6db26c2a-1fa8-4c89-8296-16b0c0efc59f",
   "metadata": {},
   "source": [
    "---"
   ]
  },
  {
   "cell_type": "code",
   "execution_count": null,
   "id": "f7053c9d-b700-4103-989f-0831f4243853",
   "metadata": {},
   "outputs": [],
   "source": [
    "plt.bar(['stem 1', 'stem 2', 'stem 3', 'bulge'], [stem1_p/stem1_t, stem2_p/stem2_t, stem3_p/stem3_t, bulge_p/bulge_t], color=yellow)\n",
    "plt.ylabel('Fold over expected')\n",
    "plt.savefig('fold_over_expected', dpi=120)"
   ]
  }
 ],
 "metadata": {
  "kernelspec": {
   "display_name": "Python 3 (ipykernel)",
   "language": "python",
   "name": "python3"
  },
  "language_info": {
   "codemirror_mode": {
    "name": "ipython",
    "version": 3
   },
   "file_extension": ".py",
   "mimetype": "text/x-python",
   "name": "python",
   "nbconvert_exporter": "python",
   "pygments_lexer": "ipython3",
   "version": "3.9.12"
  }
 },
 "nbformat": 4,
 "nbformat_minor": 5
}
