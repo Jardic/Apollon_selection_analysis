{
 "cells": [
  {
   "cell_type": "code",
   "execution_count": 1,
   "id": "3565b31b-ef53-4192-a0cf-998a4d50aa52",
   "metadata": {},
   "outputs": [],
   "source": [
    "import pandas as pd\n",
    "import matplotlib.pyplot as plt"
   ]
  },
  {
   "cell_type": "code",
   "execution_count": 17,
   "id": "50a3ba33-d6e1-4ade-b966-f5edfa4d5c9b",
   "metadata": {},
   "outputs": [],
   "source": [
    "plt.rcParams['figure.facecolor'] = 'white'\n",
    "plt.rcParams['font.size'] = 12\n",
    "plt.rcParams['font.family'] = 'Arial'\n",
    "\n",
    "pd.set_option('display.max_colwidth', 100)"
   ]
  },
  {
   "cell_type": "code",
   "execution_count": 3,
   "id": "23f16668-0099-4d01-bad8-2c6d00d51d9a",
   "metadata": {},
   "outputs": [],
   "source": [
    "# Reselection and selection piechart of readnumbers (top10 + others)"
   ]
  },
  {
   "cell_type": "code",
   "execution_count": 4,
   "id": "bb931616-bcf5-403c-884c-91a22912338d",
   "metadata": {},
   "outputs": [],
   "source": [
    "def prepDataset(f):\n",
    "    df = pd.read_csv(f, sep='\\t', names=['count', 'seq'])\n",
    "    df['label'] = [str(x+1) if x < 10 else 'other' for x in range(0, len(df))]\n",
    "    return df"
   ]
  },
  {
   "cell_type": "code",
   "execution_count": 5,
   "id": "3d521dcf-0de7-434e-a778-6cc687bea6d3",
   "metadata": {},
   "outputs": [],
   "source": [
    "selection_dataset = '/home/kurfurst/Documents/datasets/MV_NPP_full_FAcounts.tsv'\n",
    "reselection_dataset = '/home/kurfurst/Documents/datasets/MV_apollon_reselection.tsv'"
   ]
  },
  {
   "cell_type": "code",
   "execution_count": 6,
   "id": "d1a78b54-2b4b-46ea-926c-902c840fc88d",
   "metadata": {},
   "outputs": [],
   "source": [
    "df_sel = prepDataset(selection_dataset)\n",
    "df_res = prepDataset(reselection_dataset)"
   ]
  },
  {
   "cell_type": "markdown",
   "id": "a08412b8-0dd4-4c48-ad6f-d9fc41b1c190",
   "metadata": {},
   "source": [
    "---\n",
    "### Selection data"
   ]
  },
  {
   "cell_type": "code",
   "execution_count": 39,
   "id": "35318e6d-ac25-4689-9c13-032aa309b1d1",
   "metadata": {},
   "outputs": [
    {
     "data": {
      "image/png": "[encoded data removed]",
      "text/plain": [
       "<Figure size 432x288 with 1 Axes>"
      ]
     },
     "metadata": {},
     "output_type": "display_data"
    }
   ],
   "source": [
    "topN = 3\n",
    "\n",
    "labels = df_sel.iloc[0:topN]['label'].tolist() + ['Other']\n",
    "sizes = df_sel.iloc[0:topN]['count'].tolist() + [df_sel.iloc[topN:]['count'].sum()]\n",
    "\n",
    "fig, ax = plt.subplots()\n",
    "ax.pie(sizes, labels=labels, autopct='%1.1f%%')\n",
    "\n",
    "plt.title('Selection')\n",
    "plt.savefig('Selection_sequence_abundance_piechart.svg')"
   ]
  },
  {
   "cell_type": "markdown",
   "id": "36a621dc-a9b9-46bc-a3e1-ec5a84b0f37f",
   "metadata": {},
   "source": [
    "---\n",
    "### Reselection data"
   ]
  },
  {
   "cell_type": "code",
   "execution_count": 40,
   "id": "837ec1d8-b843-4f9d-a5f5-07bbd7167491",
   "metadata": {},
   "outputs": [
    {
     "data": {
      "image/png": "[encoded data removed]",
      "text/plain": [
       "<Figure size 432x288 with 1 Axes>"
      ]
     },
     "metadata": {},
     "output_type": "display_data"
    }
   ],
   "source": [
    "topN = 4\n",
    "\n",
    "labels = df_res.iloc[0:topN]['label'].tolist() + ['Other']\n",
    "sizes = df_res.iloc[0:topN]['count'].tolist() + [df_res.iloc[topN:]['count'].sum()]\n",
    "\n",
    "fig, ax = plt.subplots()\n",
    "ax.pie(sizes, labels=labels, autopct='%1.1f%%')\n",
    "\n",
    "plt.title('Reselection')\n",
    "plt.savefig('Reselection_sequence_abundance_piechart.svg')"
   ]
  },
  {
   "cell_type": "markdown",
   "id": "5dbe7565-27f6-4a3b-83d3-7677d5331e4a",
   "metadata": {},
   "source": [
    "---\n",
    "### Comparison"
   ]
  },
  {
   "cell_type": "code",
   "execution_count": 13,
   "id": "b1b7d5a9-6ca9-4ffd-a77a-3129e5f570af",
   "metadata": {},
   "outputs": [],
   "source": [
    "del df_sel['label']\n",
    "del df_res['label']"
   ]
  },
  {
   "cell_type": "code",
   "execution_count": 14,
   "id": "2be8b786-5256-4b11-8531-c419eab789d0",
   "metadata": {},
   "outputs": [
    {
     "data": {
      "text/html": [
       "<div>\n",
       "<style scoped>\n",
       "    .dataframe tbody tr th:only-of-type {\n",
       "        vertical-align: middle;\n",
       "    }\n",
       "\n",
       "    .dataframe tbody tr th {\n",
       "        vertical-align: top;\n",
       "    }\n",
       "\n",
       "    .dataframe thead th {\n",
       "        text-align: right;\n",
       "    }\n",
       "</style>\n",
       "<table border=\"1\" class=\"dataframe\">\n",
       "  <thead>\n",
       "    <tr style=\"text-align: right;\">\n",
       "      <th></th>\n",
       "      <th>Selection</th>\n",
       "      <th>Reselection</th>\n",
       "    </tr>\n",
       "  </thead>\n",
       "  <tbody>\n",
       "    <tr>\n",
       "      <th>Reads total</th>\n",
       "      <td>4393681</td>\n",
       "      <td>5657508</td>\n",
       "    </tr>\n",
       "    <tr>\n",
       "      <th>Unique sequences</th>\n",
       "      <td>15828</td>\n",
       "      <td>34493</td>\n",
       "    </tr>\n",
       "    <tr>\n",
       "      <th>Max. count</th>\n",
       "      <td>3448950</td>\n",
       "      <td>3137978</td>\n",
       "    </tr>\n",
       "  </tbody>\n",
       "</table>\n",
       "</div>"
      ],
      "text/plain": [
       "                  Selection  Reselection\n",
       "Reads total         4393681      5657508\n",
       "Unique sequences      15828        34493\n",
       "Max. count          3448950      3137978"
      ]
     },
     "execution_count": 14,
     "metadata": {},
     "output_type": "execute_result"
    }
   ],
   "source": [
    "pd.DataFrame({\n",
    "    'Selection' : [df_sel['count'].sum(), len(df_sel), df_sel.iloc[0]['count']],\n",
    "    'Reselection' : [df_res['count'].sum(), len(df_res), df_res.iloc[0]['count']]\n",
    "}, index=['Reads total', 'Unique sequences', 'Max. count'])"
   ]
  },
  {
   "cell_type": "code",
   "execution_count": 18,
   "id": "e19e33e5-8e4e-4977-bcb6-0348843d9b60",
   "metadata": {},
   "outputs": [
    {
     "data": {
      "text/html": [
       "<div>\n",
       "<style scoped>\n",
       "    .dataframe tbody tr th:only-of-type {\n",
       "        vertical-align: middle;\n",
       "    }\n",
       "\n",
       "    .dataframe tbody tr th {\n",
       "        vertical-align: top;\n",
       "    }\n",
       "\n",
       "    .dataframe thead th {\n",
       "        text-align: right;\n",
       "    }\n",
       "</style>\n",
       "<table border=\"1\" class=\"dataframe\">\n",
       "  <thead>\n",
       "    <tr style=\"text-align: right;\">\n",
       "      <th></th>\n",
       "      <th>count</th>\n",
       "      <th>seq</th>\n",
       "    </tr>\n",
       "  </thead>\n",
       "  <tbody>\n",
       "    <tr>\n",
       "      <th>0</th>\n",
       "      <td>3448950</td>\n",
       "      <td>GGCAGAGACGGCGGCGTCATAGGGACAGTGCTGTACATGCTCACCCTCAGGGGCAATCGGGGGGCGTGAACTTATATGGAGTTAC</td>\n",
       "    </tr>\n",
       "    <tr>\n",
       "      <th>1</th>\n",
       "      <td>598238</td>\n",
       "      <td>GGCAGAGATGGCAACGTCAACATGAGGATGCCGCATATCCCCAGTGCACACTTGGGCAGTGGGGAGTGACTTGGGATGGGGGAAA</td>\n",
       "    </tr>\n",
       "    <tr>\n",
       "      <th>2</th>\n",
       "      <td>19589</td>\n",
       "      <td>GGAAGATGAGGCTACAACTCAGCGCCCATACGGTATATACTAATTGCTCAAGGTCATATGAGATACTGGCTTCCGCTATCGCATA</td>\n",
       "    </tr>\n",
       "    <tr>\n",
       "      <th>3</th>\n",
       "      <td>18558</td>\n",
       "      <td>GGTAGACATGGCAACGCCACTGTCACTAAACTGAGCGTGATCAGTAAGCATGCTCATAGGTGAGGGTGTTTTTGGGTGGCTGGTA</td>\n",
       "    </tr>\n",
       "    <tr>\n",
       "      <th>4</th>\n",
       "      <td>14385</td>\n",
       "      <td>GGTAGGGATGAGGATGAGAATGGGCGGACGCGGAATAACCTCATGGCGCATCGACGAGGGGGGGAGGCACTAGGGAATAACAGTC</td>\n",
       "    </tr>\n",
       "    <tr>\n",
       "      <th>5</th>\n",
       "      <td>10932</td>\n",
       "      <td>GGCAGAGACGGCGGCGTCATAGGGACAGTGCTGTACATGCTCACCCTCAGGGGCAATCGGGGGGCGTGAACTTATATGGAGTTAT</td>\n",
       "    </tr>\n",
       "    <tr>\n",
       "      <th>6</th>\n",
       "      <td>9394</td>\n",
       "      <td>GGAAGATATGGCGCGAACAAATGGACAATGCCGAATATCCCCCGCACGCAGGGCAACAAGGGGGAGTGACTTGGGATGGGGGCTG</td>\n",
       "    </tr>\n",
       "    <tr>\n",
       "      <th>7</th>\n",
       "      <td>8664</td>\n",
       "      <td>GGGAGCCATGGCGACTACAACTGAACGAGTCCGTGGCAGCGGTGTCTGCAGGGCTGCAGGGGCGATTGACTTTGCTTGGGTGGTA</td>\n",
       "    </tr>\n",
       "    <tr>\n",
       "      <th>8</th>\n",
       "      <td>8631</td>\n",
       "      <td>GGGAGCCATGGCGACAACACCTGAACGATTATGAATGTCCTTTGTTCGGAGGGGCACTGGGTGGACTCACCTGCACCGGGGGTGA</td>\n",
       "    </tr>\n",
       "    <tr>\n",
       "      <th>9</th>\n",
       "      <td>8048</td>\n",
       "      <td>GGAAGAGTAGTTACAGACACAGGGAAGTTGCTGCATATCCTCCCTGTGCAGGGCCGCAGGGGGGAGTGACTTGGGATGGGGGGTC</td>\n",
       "    </tr>\n",
       "  </tbody>\n",
       "</table>\n",
       "</div>"
      ],
      "text/plain": [
       "     count  \\\n",
       "0  3448950   \n",
       "1   598238   \n",
       "2    19589   \n",
       "3    18558   \n",
       "4    14385   \n",
       "5    10932   \n",
       "6     9394   \n",
       "7     8664   \n",
       "8     8631   \n",
       "9     8048   \n",
       "\n",
       "                                                                                     seq  \n",
       "0  GGCAGAGACGGCGGCGTCATAGGGACAGTGCTGTACATGCTCACCCTCAGGGGCAATCGGGGGGCGTGAACTTATATGGAGTTAC  \n",
       "1  GGCAGAGATGGCAACGTCAACATGAGGATGCCGCATATCCCCAGTGCACACTTGGGCAGTGGGGAGTGACTTGGGATGGGGGAAA  \n",
       "2  GGAAGATGAGGCTACAACTCAGCGCCCATACGGTATATACTAATTGCTCAAGGTCATATGAGATACTGGCTTCCGCTATCGCATA  \n",
       "3  GGTAGACATGGCAACGCCACTGTCACTAAACTGAGCGTGATCAGTAAGCATGCTCATAGGTGAGGGTGTTTTTGGGTGGCTGGTA  \n",
       "4  GGTAGGGATGAGGATGAGAATGGGCGGACGCGGAATAACCTCATGGCGCATCGACGAGGGGGGGAGGCACTAGGGAATAACAGTC  \n",
       "5  GGCAGAGACGGCGGCGTCATAGGGACAGTGCTGTACATGCTCACCCTCAGGGGCAATCGGGGGGCGTGAACTTATATGGAGTTAT  \n",
       "6  GGAAGATATGGCGCGAACAAATGGACAATGCCGAATATCCCCCGCACGCAGGGCAACAAGGGGGAGTGACTTGGGATGGGGGCTG  \n",
       "7  GGGAGCCATGGCGACTACAACTGAACGAGTCCGTGGCAGCGGTGTCTGCAGGGCTGCAGGGGCGATTGACTTTGCTTGGGTGGTA  \n",
       "8  GGGAGCCATGGCGACAACACCTGAACGATTATGAATGTCCTTTGTTCGGAGGGGCACTGGGTGGACTCACCTGCACCGGGGGTGA  \n",
       "9  GGAAGAGTAGTTACAGACACAGGGAAGTTGCTGCATATCCTCCCTGTGCAGGGCCGCAGGGGGGAGTGACTTGGGATGGGGGGTC  "
      ]
     },
     "execution_count": 18,
     "metadata": {},
     "output_type": "execute_result"
    }
   ],
   "source": [
    "df_sel.head(10)"
   ]
  },
  {
   "cell_type": "code",
   "execution_count": 19,
   "id": "6aefef72-35f2-4065-9016-25f16d0f4d1e",
   "metadata": {},
   "outputs": [
    {
     "data": {
      "text/html": [
       "<div>\n",
       "<style scoped>\n",
       "    .dataframe tbody tr th:only-of-type {\n",
       "        vertical-align: middle;\n",
       "    }\n",
       "\n",
       "    .dataframe tbody tr th {\n",
       "        vertical-align: top;\n",
       "    }\n",
       "\n",
       "    .dataframe thead th {\n",
       "        text-align: right;\n",
       "    }\n",
       "</style>\n",
       "<table border=\"1\" class=\"dataframe\">\n",
       "  <thead>\n",
       "    <tr style=\"text-align: right;\">\n",
       "      <th></th>\n",
       "      <th>count</th>\n",
       "      <th>seq</th>\n",
       "    </tr>\n",
       "  </thead>\n",
       "  <tbody>\n",
       "    <tr>\n",
       "      <th>0</th>\n",
       "      <td>3137978</td>\n",
       "      <td>GGCAGAGATGGCGCTGTCATAGGGACAGTGCTACGCATGCTCACCCTCTGGGGCAATCGGGGGGCTTCGACTTGTATAGAGTTAG</td>\n",
       "    </tr>\n",
       "    <tr>\n",
       "      <th>1</th>\n",
       "      <td>480794</td>\n",
       "      <td>GGCAGAGATGGCGGTGTCATGTTGACAGTGCATTGCATGCTCCCCCTCAGGGGCAATCGGGGGGTGAGAGCTAGTATGGAGTTAA</td>\n",
       "    </tr>\n",
       "    <tr>\n",
       "      <th>2</th>\n",
       "      <td>399558</td>\n",
       "      <td>GGCAGAGATGGCGGTGTCATAGGTACACTGCTATGCATGCTCACCCTCTGGGGCAATCGGGGGGCATTAACATATATTGATTTAC</td>\n",
       "    </tr>\n",
       "    <tr>\n",
       "      <th>3</th>\n",
       "      <td>126714</td>\n",
       "      <td>GGCAGAGACGGCGGCGTCCTAGGGACAGTGCTGTACATGCTCCCCCTCAGGGGCAATCGGGGGGTGTAAACTGCGATGTTATTAG</td>\n",
       "    </tr>\n",
       "    <tr>\n",
       "      <th>4</th>\n",
       "      <td>86025</td>\n",
       "      <td>GGCAGAGACAGCGACGGGATATAAACAGTTCTGTACATGCTCACCCTCTGGGGCAATCGGGGGGCTTAAAGGCTTAGGGAGTTAG</td>\n",
       "    </tr>\n",
       "    <tr>\n",
       "      <th>5</th>\n",
       "      <td>76172</td>\n",
       "      <td>GGCAGAGATGGCGGCGTCATATGGAGGCCGCTATGCATGCTCCCCCTCAGGGGCAATCGGGGGGTGTAAACATATAAGGAGTTTG</td>\n",
       "    </tr>\n",
       "    <tr>\n",
       "      <th>6</th>\n",
       "      <td>75062</td>\n",
       "      <td>GGCAGAGATGGCGGTGGCATAGTGACAGTGCCGCGCATGCTCACCCTCTGGGGCAATCGGGGGGCGATAACTTATAAGGCGTTAC</td>\n",
       "    </tr>\n",
       "    <tr>\n",
       "      <th>7</th>\n",
       "      <td>54043</td>\n",
       "      <td>GGCAGAGACGACAGCGTCATACAGACACTGGTGTGCATGCTCACCCTGGGGGGCAATCGGGGGGCGACAATTTATATAGGCTTAC</td>\n",
       "    </tr>\n",
       "    <tr>\n",
       "      <th>8</th>\n",
       "      <td>50860</td>\n",
       "      <td>GGCAGAGATGGCAGCCTCATAGGGATGGTGCCATACATGCTCACCCGGAGGGGCAATCGGGGGGCGATAAAGTATATGGAATTAC</td>\n",
       "    </tr>\n",
       "    <tr>\n",
       "      <th>9</th>\n",
       "      <td>50294</td>\n",
       "      <td>GGCAGAGAAGGCGGCGACTTAGCGACCATGCTTCGCATGCTCCCCCTCAGGGGCAATCGGGGGGTGTGAATTTAAAAAGAGATTT</td>\n",
       "    </tr>\n",
       "  </tbody>\n",
       "</table>\n",
       "</div>"
      ],
      "text/plain": [
       "     count  \\\n",
       "0  3137978   \n",
       "1   480794   \n",
       "2   399558   \n",
       "3   126714   \n",
       "4    86025   \n",
       "5    76172   \n",
       "6    75062   \n",
       "7    54043   \n",
       "8    50860   \n",
       "9    50294   \n",
       "\n",
       "                                                                                     seq  \n",
       "0  GGCAGAGATGGCGCTGTCATAGGGACAGTGCTACGCATGCTCACCCTCTGGGGCAATCGGGGGGCTTCGACTTGTATAGAGTTAG  \n",
       "1  GGCAGAGATGGCGGTGTCATGTTGACAGTGCATTGCATGCTCCCCCTCAGGGGCAATCGGGGGGTGAGAGCTAGTATGGAGTTAA  \n",
       "2  GGCAGAGATGGCGGTGTCATAGGTACACTGCTATGCATGCTCACCCTCTGGGGCAATCGGGGGGCATTAACATATATTGATTTAC  \n",
       "3  GGCAGAGACGGCGGCGTCCTAGGGACAGTGCTGTACATGCTCCCCCTCAGGGGCAATCGGGGGGTGTAAACTGCGATGTTATTAG  \n",
       "4  GGCAGAGACAGCGACGGGATATAAACAGTTCTGTACATGCTCACCCTCTGGGGCAATCGGGGGGCTTAAAGGCTTAGGGAGTTAG  \n",
       "5  GGCAGAGATGGCGGCGTCATATGGAGGCCGCTATGCATGCTCCCCCTCAGGGGCAATCGGGGGGTGTAAACATATAAGGAGTTTG  \n",
       "6  GGCAGAGATGGCGGTGGCATAGTGACAGTGCCGCGCATGCTCACCCTCTGGGGCAATCGGGGGGCGATAACTTATAAGGCGTTAC  \n",
       "7  GGCAGAGACGACAGCGTCATACAGACACTGGTGTGCATGCTCACCCTGGGGGGCAATCGGGGGGCGACAATTTATATAGGCTTAC  \n",
       "8  GGCAGAGATGGCAGCCTCATAGGGATGGTGCCATACATGCTCACCCGGAGGGGCAATCGGGGGGCGATAAAGTATATGGAATTAC  \n",
       "9  GGCAGAGAAGGCGGCGACTTAGCGACCATGCTTCGCATGCTCCCCCTCAGGGGCAATCGGGGGGTGTGAATTTAAAAAGAGATTT  "
      ]
     },
     "execution_count": 19,
     "metadata": {},
     "output_type": "execute_result"
    }
   ],
   "source": [
    "df_res.head(10)"
   ]
  }
 ],
 "metadata": {
  "kernelspec": {
   "display_name": "Python 3 (ipykernel)",
   "language": "python",
   "name": "python3"
  },
  "language_info": {
   "codemirror_mode": {
    "name": "ipython",
    "version": 3
   },
   "file_extension": ".py",
   "mimetype": "text/x-python",
   "name": "python",
   "nbconvert_exporter": "python",
   "pygments_lexer": "ipython3",
   "version": "3.9.12"
  }
 },
 "nbformat": 4,
 "nbformat_minor": 5
}
