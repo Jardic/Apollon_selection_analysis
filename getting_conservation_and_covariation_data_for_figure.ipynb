{
 "cells": [
  {
   "cell_type": "code",
   "execution_count": 1,
   "id": "ece02fe5-bf3e-450c-bcb9-69124131bede",
   "metadata": {},
   "outputs": [],
   "source": [
    "import pandas as pd\n",
    "from ivstools import tools\n",
    "import matplotlib.pyplot as plt\n",
    "import matplotlib\n",
    "from ivstools import constants\n",
    "import seaborn as sns"
   ]
  },
  {
   "cell_type": "code",
   "execution_count": 2,
   "id": "46d18935-1079-4dc1-b20b-3b099613eb79",
   "metadata": {},
   "outputs": [],
   "source": [
    "df_counts_1nt = pd.read_csv('/home/kurfurst/Documents/projects/mv/apollon/apollon_reselection/analysis/pos_base_cfe/apollon_reselection_1nt_counts.tsv', sep='\\t', index_col=0)\n",
    "df_info_1nt = tools.getInformationMatrix(df_counts_1nt)\n",
    "df_info_1nt['conservation'] = df_info_1nt.sum(axis=1)\n",
    "df_info_1nt = df_info_1nt.loc[constants.apollon_core_pos_0]"
   ]
  },
  {
   "cell_type": "code",
   "execution_count": 3,
   "id": "94da37a5-6854-4706-9848-ca9e0e4b18f2",
   "metadata": {},
   "outputs": [],
   "source": [
    "#cmap = matplotlib.cm.get_cmap('fcc115ff')\n",
    "#df['color'] = [matplotlib.colors.to_hex(cmap(x/df['conservation'].max())) for x in df['conservation']]\n",
    "cmap = sns.light_palette(\"#fcc115ff\", reverse=False, as_cmap=True)"
   ]
  },
  {
   "cell_type": "code",
   "execution_count": 4,
   "id": "0f57fd66-9885-4461-9e9a-977765d18874",
   "metadata": {},
   "outputs": [
    {
     "data": {
      "image/png": "[encoded data removed]",
      "text/html": [
       "<div style=\"vertical-align: middle;\"><strong>blend</strong> </div><div class=\"cmap\"><img alt=\"blend colormap\" title=\"blend\" style=\"border: 1px solid #555;\" src=\"data:image/png;base64,iVBORw0KGgoAAAANSUhEUgAAAgAAAABACAYAAABsv8+/AAAAFHRFWHRUaXRsZQBibGVuZCBjb2xvcm1hcKH0gPAAAAAadEVYdERlc2NyaXB0aW9uAGJsZW5kIGNvbG9ybWFwX6spFgAAADB0RVh0QXV0aG9yAE1hdHBsb3RsaWIgdjMuNS4yLCBodHRwczovL21hdHBsb3RsaWIub3Jnwlp4nAAAADJ0RVh0U29mdHdhcmUATWF0cGxvdGxpYiB2My41LjIsIGh0dHBzOi8vbWF0cGxvdGxpYi5vcmfs/Oe7AAABsUlEQVR4nO3WQU7DMBRAQZv7XxUJcQHY0EhtBU7alM2b2URFthrru+jNz4/3rzHGGOPy+HmO6+fcPo8/1/363Lav1t3+fbFv7/rF+85t295zHVz/dfJ5lue63jeX73nzPbvPtXi/F8/1/HONnesOzvXBezBX5zl4D06f65P3ex5c/29zffh+X6+/n9/B38PZc922nTPXu/M9/H/uybm+6H7Pg+tPn+uL7vfld/c2AIAcAQAAQQIAAIIEAAAECQAACBIAABAkAAAgSAAAQJAAAIAgAQAAQQIAAIIEAAAECQAACBIAABAkAAAgSAAAQJAAAIAgAQAAQQIAAIIEAAAECQAACBIAABAkAAAgSAAAQJAAAIAgAQAAQQIAAIIEAAAECQAACBIAABAkAAAgSAAAQJAAAIAgAQAAQQIAAIIEAAAECQAACBIAABAkAAAgSAAAQJAAAIAgAQAAQQIAAIIEAAAECQAACBIAABAkAAAgSAAAQJAAAIAgAQAAQQIAAIIEAAAECQAACBIAABAkAAAgSAAAQJAAAIAgAQAAQQIAAIIEAAAECQAACBIAABAkAAAg6BsDLgpgDyLvrAAAAABJRU5ErkJggg==\"></div><div style=\"vertical-align: middle; max-width: 514px; display: flex; justify-content: space-between;\"><div style=\"float: left;\"><div title=\"#f3f0edff\" style=\"display: inline-block; width: 1em; height: 1em; margin: 0; vertical-align: middle; border: 1px solid #555; background-color: #f3f0edff;\"></div> under</div><div style=\"margin: 0 auto; display: inline-block;\">bad <div title=\"#00000000\" style=\"display: inline-block; width: 1em; height: 1em; margin: 0; vertical-align: middle; border: 1px solid #555; background-color: #00000000;\"></div></div><div style=\"float: right;\">over <div title=\"#fcc115ff\" style=\"display: inline-block; width: 1em; height: 1em; margin: 0; vertical-align: middle; border: 1px solid #555; background-color: #fcc115ff;\"></div></div>"
      ],
      "text/plain": [
       "<matplotlib.colors.LinearSegmentedColormap at 0x7fe4087ce610>"
      ]
     },
     "execution_count": 4,
     "metadata": {},
     "output_type": "execute_result"
    }
   ],
   "source": [
    "cmap"
   ]
  },
  {
   "cell_type": "code",
   "execution_count": 5,
   "id": "6d49b5ed-6aeb-48fe-86fb-2a132a341802",
   "metadata": {},
   "outputs": [],
   "source": [
    "df_info_1nt['color'] = [matplotlib.colors.to_hex(cmap((x - df_info_1nt['conservation'].min()) / (df_info_1nt['conservation'].max() - df_info_1nt['conservation'].min()))) for x in df_info_1nt['conservation']]"
   ]
  },
  {
   "cell_type": "code",
   "execution_count": 6,
   "id": "ff5094b1-eee0-4960-8021-8429ce9e24e6",
   "metadata": {},
   "outputs": [],
   "source": [
    "df_info_1nt['p'] = [x for x in range(1, len(df_info_1nt)+1)]"
   ]
  },
  {
   "cell_type": "code",
   "execution_count": 11,
   "id": "ffa05cb9-890a-4b4a-9e21-de42cf9ba24b",
   "metadata": {},
   "outputs": [
    {
     "data": {
      "text/plain": [
       "0.8037571963932097"
      ]
     },
     "execution_count": 11,
     "metadata": {},
     "output_type": "execute_result"
    }
   ],
   "source": [
    "df_info_1nt['conservation'].min()"
   ]
  },
  {
   "cell_type": "code",
   "execution_count": null,
   "id": "8fa77c53-a267-47c0-8d3e-94dca6a78d57",
   "metadata": {},
   "outputs": [],
   "source": [
    "df_mi = pd.read_csv('./aurora_reselection_fl_mi.tsv', sep='\\t')\n",
    "df_mi = df_mi[(df_mi['p1'].isin(constants.apollon_core_pos_0)) & (df_mi['p2'].isin(constants.apollon_core_pos_0))]\n",
    "df_mi = df_mi.sort_values(['mi'], ascending=False)"
   ]
  },
  {
   "cell_type": "code",
   "execution_count": null,
   "id": "5a519a71-747f-4196-a083-facf2bcab622",
   "metadata": {},
   "outputs": [],
   "source": [
    "plt.hist(df_mi['mi'], bins=100)\n",
    "plt.yscale('log')\n",
    "plt.show()"
   ]
  },
  {
   "cell_type": "code",
   "execution_count": null,
   "id": "44f221df-38d6-4912-aad6-6b40ea91bc92",
   "metadata": {},
   "outputs": [],
   "source": [
    "df_mi = df_mi.copy()"
   ]
  },
  {
   "cell_type": "code",
   "execution_count": null,
   "id": "c22e40b7-668f-420d-88b4-95e391a61a33",
   "metadata": {},
   "outputs": [],
   "source": [
    "df_mi['p1'] = df_mi['p1'] +1\n",
    "df_mi['p2'] = df_mi['p2'] + 1"
   ]
  },
  {
   "cell_type": "code",
   "execution_count": null,
   "id": "1189a66d-5898-4ffb-9216-ef398388cba8",
   "metadata": {},
   "outputs": [],
   "source": [
    "df_mi.head(10)"
   ]
  },
  {
   "cell_type": "code",
   "execution_count": null,
   "id": "e250496c-4896-405a-9a5a-01a04d3c819a",
   "metadata": {},
   "outputs": [],
   "source": [
    "import pandas as pd\n",
    "import matplotlib\n",
    "from ivstools import tools\n",
    "import seaborn as sns\n",
    "import matplotlib.pyplot as plt\n",
    "from ivstools import colorschemes"
   ]
  },
  {
   "cell_type": "code",
   "execution_count": null,
   "id": "ea8ed406-b36c-4bfb-8873-1009356f315a",
   "metadata": {},
   "outputs": [],
   "source": [
    "df = pd.read_csv('fig3a_info_matrix.csv')\n",
    "cmap = matplotlib.cm.get_cmap('Blues')\n",
    "df['color'] = [matplotlib.colors.to_hex(cmap(x/df['conservation'].max())) for x in df['conservation']]\n",
    "df[['conservation', 'color']].to_csv('figure3a_colordata.csv', header=False, index=False)"
   ]
  },
  {
   "cell_type": "code",
   "execution_count": null,
   "id": "e9b80f8b-b3fa-401d-810b-609a287a96d3",
   "metadata": {},
   "outputs": [],
   "source": [
    "dfx = df.loc[tools.aurora_core_positions].copy()\n",
    "dfx['position_1based'] = [x for x in range(1, len(dfx)+1)]\n",
    "dfx"
   ]
  },
  {
   "cell_type": "code",
   "execution_count": null,
   "id": "92dad918-29e8-4b37-9430-8d5fa20e4ee6",
   "metadata": {},
   "outputs": [],
   "source": []
  }
 ],
 "metadata": {
  "kernelspec": {
   "display_name": "Python 3 (ipykernel)",
   "language": "python",
   "name": "python3"
  },
  "language_info": {
   "codemirror_mode": {
    "name": "ipython",
    "version": 3
   },
   "file_extension": ".py",
   "mimetype": "text/x-python",
   "name": "python",
   "nbconvert_exporter": "python",
   "pygments_lexer": "ipython3",
   "version": "3.9.12"
  }
 },
 "nbformat": 4,
 "nbformat_minor": 5
}
